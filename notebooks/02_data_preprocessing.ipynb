{
 "cells": [
  {
   "cell_type": "markdown",
   "metadata": {},
   "source": [
    "# Data Preprocessing - LendingClub Loan Data\n",
    "\n",
    "This notebook handles comprehensive data preprocessing including:\n",
    "- Feature selection and engineering\n",
    "- Missing value imputation\n",
    "- Categorical encoding\n",
    "- Feature scaling\n",
    "- Train/validation/test splitting"
   ]
  },
  {
   "cell_type": "code",
   "execution_count": 1,
   "metadata": {},
   "outputs": [
    {
     "name": "stderr",
     "output_type": "stream",
     "text": [
      "2025-09-11 15:49:08,955 - src.utils.helpers - INFO - Logging setup complete. Level: INFO\n"
     ]
    }
   ],
   "source": [
    "# Import necessary libraries\n",
    "import sys\n",
    "import os\n",
    "sys.path.append('../')\n",
    "\n",
    "import pandas as pd\n",
    "import numpy as np\n",
    "import matplotlib.pyplot as plt\n",
    "import seaborn as sns\n",
    "from sklearn.model_selection import train_test_split\n",
    "from sklearn.preprocessing import StandardScaler, LabelEncoder\n",
    "from sklearn.impute import SimpleImputer\n",
    "import joblib\n",
    "import warnings\n",
    "warnings.filterwarnings('ignore')\n",
    "\n",
    "# Import custom modules\n",
    "from src.data.data_loader import LendingClubDataLoader\n",
    "from src.data.preprocessor import LendingClubPreprocessor\n",
    "from src.utils.helpers import setup_logging, print_data_summary, save_results\n",
    "from config.config import DATA_CONFIG, NUMERICAL_FEATURES, CATEGORICAL_FEATURES\n",
    "\n",
    "# Setup\n",
    "setup_logging()\n",
    "plt.style.use('seaborn-v0_8')"
   ]
  },
  {
   "cell_type": "markdown",
   "metadata": {},
   "source": [
    "## 1. Load Data"
   ]
  },
  {
   "cell_type": "code",
   "execution_count": 2,
   "metadata": {},
   "outputs": [
    {
     "name": "stdout",
     "output_type": "stream",
     "text": [
      "Loaded preprocessed data: (88399, 154)\n",
      "\n",
      "==================================================\n",
      "Data Before Preprocessing\n",
      "==================================================\n",
      "Shape: (88399, 154)\n",
      "Memory usage: 243.70 MB\n",
      "\n",
      "Data types:\n",
      "float64    116\n",
      "object      36\n",
      "int64        2\n",
      "Name: count, dtype: int64\n",
      "\n",
      "Missing values:\n",
      "                          Missing  Percentage\n",
      "member_id                   88399  100.000000\n",
      "revol_bal_joint             88399  100.000000\n",
      "sec_app_fico_range_high     88399  100.000000\n",
      "sec_app_earliest_cr_line    88399  100.000000\n",
      "sec_app_inq_last_6mths      88399  100.000000\n",
      "...                           ...         ...\n",
      "last_pymnt_d                   71    0.080318\n",
      "revol_util                     36    0.040724\n",
      "last_credit_pull_d              3    0.003394\n",
      "dti                             2    0.002262\n",
      "num_rev_accts                   1    0.001131\n",
      "\n",
      "[73 rows x 2 columns]\n",
      "\n",
      "Numerical columns summary:\n",
      "                 id  member_id     loan_amnt   funded_amnt  funded_amnt_inv  \\\n",
      "count  8.839900e+04        0.0  88399.000000  88399.000000     88399.000000   \n",
      "mean   6.533064e+07        NaN  14401.227955  14401.227955     14392.815247   \n",
      "std    2.470438e+06        NaN   8596.378418   8596.378418      8591.436515   \n",
      "min    5.670500e+04        NaN   1000.000000   1000.000000       900.000000   \n",
      "25%    6.386816e+07        NaN   8000.000000   8000.000000      7975.000000   \n",
      "50%    6.564684e+07        NaN  12000.000000  12000.000000     12000.000000   \n",
      "75%    6.654603e+07        NaN  20000.000000  20000.000000     20000.000000   \n",
      "max    6.861706e+07        NaN  35000.000000  35000.000000     35000.000000   \n",
      "\n",
      "           int_rate   installment    annual_inc           dti   delinq_2yrs  \\\n",
      "count  88399.000000  88399.000000  8.839900e+04  88397.000000  88399.000000   \n",
      "mean      11.963732    430.039399  7.768584e+04     18.997866      0.350570   \n",
      "std        4.132197    253.449762  8.949235e+04      9.698046      0.928724   \n",
      "min        5.320000     14.770000  0.000000e+00      0.000000      0.000000   \n",
      "25%        8.490000    245.520000  4.600000e+04     12.330000      0.000000   \n",
      "50%       11.530000    369.930000  6.500000e+04     18.420000      0.000000   \n",
      "75%       14.330000    572.190000  9.260400e+04     25.230000      0.000000   \n",
      "max       28.990000   1354.660000  9.000000e+06    999.000000     30.000000   \n",
      "\n",
      "       ...  hardship_dpd  orig_projected_additional_accrued_interest  \\\n",
      "count  ...    594.000000                                  438.000000   \n",
      "mean   ...     14.478114                                  355.600000   \n",
      "std    ...      9.642883                                  309.406033   \n",
      "min    ...      0.000000                                    1.920000   \n",
      "25%    ...      7.000000                                  131.265000   \n",
      "50%    ...     15.000000                                  236.205000   \n",
      "75%    ...     23.000000                                  501.727500   \n",
      "max    ...     30.000000                                 1914.390000   \n",
      "\n",
      "       hardship_payoff_balance_amount  hardship_last_payment_amount  \\\n",
      "count                      594.000000                    594.000000   \n",
      "mean                      9899.380354                    179.328266   \n",
      "std                       6393.956362                    175.781004   \n",
      "min                         55.730000                      0.020000   \n",
      "25%                       4716.382500                     45.112500   \n",
      "50%                       8690.585000                    123.240000   \n",
      "75%                      14292.397500                    264.985000   \n",
      "max                      29401.040000                    799.980000   \n",
      "\n",
      "       settlement_amount  settlement_percentage  settlement_term  \\\n",
      "count        2948.000000            2948.000000      2948.000000   \n",
      "mean         4935.959267              47.165407        13.610244   \n",
      "std          3494.659171               5.714074         7.424159   \n",
      "min           186.000000              20.000000         0.000000   \n",
      "25%          2111.222500              45.000000         8.000000   \n",
      "50%          4253.360000              45.000000        14.000000   \n",
      "75%          6899.220000              50.000000        18.000000   \n",
      "max         23105.580000              97.660000        65.000000   \n",
      "\n",
      "             target  potential_profit  actual_outcome  \n",
      "count  88399.000000      88399.000000    88399.000000  \n",
      "mean       0.204878       1766.886548    -1933.172081  \n",
      "std        0.403615       1387.923020     8077.545743  \n",
      "min        0.000000         53.200000   -35000.000000  \n",
      "25%        0.000000        769.300000      344.500000  \n",
      "50%        0.000000       1359.200000      946.800000  \n",
      "75%        0.000000       2327.508750     1815.000000  \n",
      "max        1.000000      10001.550000    10001.550000  \n",
      "\n",
      "[8 rows x 118 columns]\n"
     ]
    }
   ],
   "source": [
    "# Load data from EDA\n",
    "try:\n",
    "    df = pd.read_csv('../data/processed/eda_processed_data.csv')\n",
    "    print(f\"Loaded preprocessed data: {df.shape}\")\n",
    "except FileNotFoundError:\n",
    "    print(\"EDA data not found. Loading raw data...\")\n",
    "    data_loader = LendingClubDataLoader()\n",
    "    df_raw = data_loader.load_raw_data(sample_size=DATA_CONFIG.sample_size)\n",
    "    df = data_loader.create_binary_target(df_raw)\n",
    "    print(f\"Loaded and processed raw data: {df.shape}\")\n",
    "\n",
    "print_data_summary(df, \"Data Before Preprocessing\")"
   ]
  },
  {
   "cell_type": "markdown",
   "metadata": {},
   "source": [
    "## 2. Feature Selection"
   ]
  },
  {
   "cell_type": "code",
   "execution_count": 3,
   "metadata": {},
   "outputs": [
    {
     "name": "stdout",
     "output_type": "stream",
     "text": [
      "Available numerical features: 25\n",
      "['loan_amnt', 'funded_amnt', 'funded_amnt_inv', 'term', 'int_rate', 'installment', 'annual_inc', 'dti', 'delinq_2yrs', 'fico_range_low', 'fico_range_high', 'inq_last_6mths', 'mths_since_last_delinq', 'mths_since_last_record', 'open_acc', 'pub_rec', 'revol_bal', 'revol_util', 'total_acc', 'collections_12_mths_ex_med', 'mths_since_last_major_derog', 'acc_now_delinq', 'tot_coll_amt', 'tot_cur_bal', 'total_rev_hi_lim']\n",
      "\n",
      "Available categorical features: 10\n",
      "['grade', 'sub_grade', 'emp_title', 'emp_length', 'home_ownership', 'verification_status', 'purpose', 'addr_state', 'initial_list_status', 'application_type']\n",
      "\n",
      "Selected features for modeling:\n",
      "Numerical: ['loan_amnt', 'int_rate', 'installment', 'annual_inc', 'dti', 'fico_range_low', 'fico_range_high', 'inq_last_6mths', 'open_acc', 'pub_rec', 'revol_bal', 'revol_util', 'total_acc']\n",
      "Categorical: ['grade', 'home_ownership', 'verification_status', 'purpose']\n",
      "Total features: 17\n",
      "\n",
      "Dataset after feature selection: (88399, 18)\n"
     ]
    }
   ],
   "source": [
    "# Select features that exist in the dataset\n",
    "available_numerical = [col for col in NUMERICAL_FEATURES if col in df.columns]\n",
    "available_categorical = [col for col in CATEGORICAL_FEATURES if col in df.columns]\n",
    "\n",
    "print(f\"Available numerical features: {len(available_numerical)}\")\n",
    "print(available_numerical)\n",
    "print(f\"\\nAvailable categorical features: {len(available_categorical)}\")\n",
    "print(available_categorical)\n",
    "\n",
    "# Select subset of features for modeling\n",
    "selected_numerical = [\n",
    "    'loan_amnt', 'int_rate', 'installment', 'annual_inc', 'dti',\n",
    "    'fico_range_low', 'fico_range_high', 'inq_last_6mths',\n",
    "    'open_acc', 'pub_rec', 'revol_bal', 'revol_util', 'total_acc'\n",
    "]\n",
    "selected_numerical = [f for f in selected_numerical if f in df.columns]\n",
    "\n",
    "selected_categorical = [\n",
    "    'grade', 'home_ownership', 'verification_status', 'purpose'\n",
    "]\n",
    "selected_categorical = [f for f in selected_categorical if f in df.columns]\n",
    "\n",
    "all_features = selected_numerical + selected_categorical + ['target']\n",
    "\n",
    "print(f\"\\nSelected features for modeling:\")\n",
    "print(f\"Numerical: {selected_numerical}\")\n",
    "print(f\"Categorical: {selected_categorical}\")\n",
    "print(f\"Total features: {len(all_features) - 1}\")\n",
    "\n",
    "# Filter dataframe to selected features\n",
    "df_selected = df[all_features].copy()\n",
    "print(f\"\\nDataset after feature selection: {df_selected.shape}\")"
   ]
  },
  {
   "cell_type": "markdown",
   "metadata": {},
   "source": [
    "## 3. Data Quality Analysis"
   ]
  },
  {
   "cell_type": "code",
   "execution_count": 4,
   "metadata": {},
   "outputs": [
    {
     "name": "stdout",
     "output_type": "stream",
     "text": [
      "Missing values analysis:\n",
      "                Feature  Missing_Count  Missing_Percentage Data_Type\n",
      "0             loan_amnt              0                0.00   float64\n",
      "1              int_rate              0                0.00   float64\n",
      "2           installment              0                0.00   float64\n",
      "3            annual_inc              0                0.00   float64\n",
      "4                   dti              2                0.00   float64\n",
      "5        fico_range_low              0                0.00   float64\n",
      "6       fico_range_high              0                0.00   float64\n",
      "7        inq_last_6mths              0                0.00   float64\n",
      "8              open_acc              0                0.00   float64\n",
      "9               pub_rec              0                0.00   float64\n",
      "10            revol_bal              0                0.00   float64\n",
      "11           revol_util             36                0.04   float64\n",
      "12            total_acc              0                0.00   float64\n",
      "13                grade              0                0.00    object\n",
      "14       home_ownership              0                0.00    object\n",
      "15  verification_status              0                0.00    object\n",
      "16              purpose              0                0.00    object\n",
      "17               target              0                0.00     int64\n"
     ]
    },
    {
     "data": {
      "image/png": "[encoded data removed]",
      "text/plain": [
       "<Figure size 1200x600 with 2 Axes>"
      ]
     },
     "metadata": {},
     "output_type": "display_data"
    }
   ],
   "source": [
    "# Analyze missing values in selected features\n",
    "missing_analysis = pd.DataFrame({\n",
    "    'Feature': df_selected.columns,\n",
    "    'Missing_Count': df_selected.isnull().sum().values,\n",
    "    'Missing_Percentage': (df_selected.isnull().sum().values / len(df_selected) * 100).round(2),\n",
    "    'Data_Type': df_selected.dtypes.values\n",
    "})\n",
    "\n",
    "print(\"Missing values analysis:\")\n",
    "print(missing_analysis)\n",
    "\n",
    "# Visualize missing values\n",
    "missing_features = missing_analysis[missing_analysis['Missing_Count'] > 0]\n",
    "if len(missing_features) > 0:\n",
    "    plt.figure(figsize=(12, 6))\n",
    "    plt.subplot(1, 2, 1)\n",
    "    missing_features.set_index('Feature')['Missing_Count'].plot(kind='bar', color='orange')\n",
    "    plt.title('Missing Values Count')\n",
    "    plt.ylabel('Count')\n",
    "    plt.xticks(rotation=45)\n",
    "    \n",
    "    plt.subplot(1, 2, 2)\n",
    "    missing_features.set_index('Feature')['Missing_Percentage'].plot(kind='bar', color='red')\n",
    "    plt.title('Missing Values Percentage')\n",
    "    plt.ylabel('Percentage (%)')\n",
    "    plt.xticks(rotation=45)\n",
    "    \n",
    "    plt.tight_layout()\n",
    "    plt.show()\n",
    "else:\n",
    "    print(\"\\nNo missing values in selected features!\")"
   ]
  },
  {
   "cell_type": "code",
   "execution_count": 5,
   "metadata": {},
   "outputs": [
    {
     "name": "stdout",
     "output_type": "stream",
     "text": [
      "Statistical summary of numerical features:\n",
      "          loan_amnt      int_rate   installment    annual_inc           dti  \\\n",
      "count  88399.000000  88399.000000  88399.000000  8.839900e+04  88397.000000   \n",
      "mean   14401.227955     11.963732    430.039399  7.768584e+04     18.997866   \n",
      "std     8596.378418      4.132197    253.449762  8.949235e+04      9.698046   \n",
      "min     1000.000000      5.320000     14.770000  0.000000e+00      0.000000   \n",
      "25%     8000.000000      8.490000    245.520000  4.600000e+04     12.330000   \n",
      "50%    12000.000000     11.530000    369.930000  6.500000e+04     18.420000   \n",
      "75%    20000.000000     14.330000    572.190000  9.260400e+04     25.230000   \n",
      "max    35000.000000     28.990000   1354.660000  9.000000e+06    999.000000   \n",
      "\n",
      "       fico_range_low  fico_range_high  inq_last_6mths      open_acc  \\\n",
      "count    88399.000000     88399.000000    88399.000000  88399.000000   \n",
      "mean       694.468999       698.469146        0.598932     11.864467   \n",
      "std         31.081343        31.082057        0.886258      5.664467   \n",
      "min        660.000000       664.000000        0.000000      1.000000   \n",
      "25%        670.000000       674.000000        0.000000      8.000000   \n",
      "50%        685.000000       689.000000        0.000000     11.000000   \n",
      "75%        710.000000       714.000000        1.000000     15.000000   \n",
      "max        845.000000       850.000000        5.000000     67.000000   \n",
      "\n",
      "            pub_rec      revol_bal    revol_util     total_acc  \n",
      "count  88399.000000   88399.000000  88363.000000  88399.000000  \n",
      "mean       0.245263   17032.008778     51.657678     25.161506  \n",
      "std        0.720424   23316.281058     24.133651     12.149544  \n",
      "min        0.000000       0.000000      0.000000      4.000000  \n",
      "25%        0.000000    5980.500000     33.550000     16.000000  \n",
      "50%        0.000000   11268.000000     51.400000     23.000000  \n",
      "75%        0.000000   20433.000000     69.900000     32.000000  \n",
      "max       86.000000  898146.000000    152.500000    135.000000  \n",
      "\n",
      "Value counts for categorical features:\n",
      "\n",
      "grade:\n",
      "grade\n",
      "B    28108\n",
      "C    24682\n",
      "A    17071\n",
      "D    11057\n",
      "E     5583\n",
      "F     1557\n",
      "G      341\n",
      "Name: count, dtype: int64\n",
      "\n",
      "home_ownership:\n",
      "home_ownership\n",
      "MORTGAGE    43031\n",
      "RENT        35329\n",
      "OWN         10038\n",
      "ANY             1\n",
      "Name: count, dtype: int64\n",
      "\n",
      "verification_status:\n",
      "verification_status\n",
      "Source Verified    37785\n",
      "Verified           28701\n",
      "Not Verified       21913\n",
      "Name: count, dtype: int64\n",
      "\n",
      "purpose:\n",
      "purpose\n",
      "debt_consolidation    49954\n",
      "credit_card           22147\n",
      "home_improvement       5618\n",
      "other                  4921\n",
      "major_purchase         1777\n",
      "medical                1042\n",
      "small_business          790\n",
      "car                     789\n",
      "moving                  535\n",
      "vacation                489\n",
      "house                   283\n",
      "renewable_energy         54\n",
      "Name: count, dtype: int64\n"
     ]
    }
   ],
   "source": [
    "# Analyze data distributions before preprocessing\n",
    "print(\"Statistical summary of numerical features:\")\n",
    "print(df_selected[selected_numerical].describe())\n",
    "\n",
    "print(\"\\nValue counts for categorical features:\")\n",
    "for feature in selected_categorical:\n",
    "    print(f\"\\n{feature}:\")\n",
    "    print(df_selected[feature].value_counts())"
   ]
  },
  {
   "cell_type": "markdown",
   "metadata": {},
   "source": [
    "## 4. Data Preprocessing Pipeline"
   ]
  },
  {
   "cell_type": "code",
   "execution_count": 6,
   "metadata": {},
   "outputs": [
    {
     "name": "stderr",
     "output_type": "stream",
     "text": [
      "2025-09-11 15:51:38,112 - src.data.preprocessor - INFO - Using 13 numerical and 4 categorical features\n"
     ]
    },
    {
     "name": "stdout",
     "output_type": "stream",
     "text": [
      "Applying preprocessing pipeline...\n"
     ]
    },
    {
     "name": "stderr",
     "output_type": "stream",
     "text": [
      "2025-09-11 15:51:38,723 - src.data.preprocessor - INFO - Processed data shape: (88399, 35)\n"
     ]
    },
    {
     "name": "stdout",
     "output_type": "stream",
     "text": [
      "Processed data shape: (88399, 35)\n",
      "Target shape: (88399,)\n",
      "Target distribution: [70288 18111]\n"
     ]
    }
   ],
   "source": [
    "# Initialize preprocessor\n",
    "preprocessor = LendingClubPreprocessor()\n",
    "\n",
    "# Update the preprocessor to use our selected features\n",
    "preprocessor.numerical_features = selected_numerical\n",
    "preprocessor.categorical_features = selected_categorical\n",
    "\n",
    "# Fit and transform the data\n",
    "print(\"Applying preprocessing pipeline...\")\n",
    "X_processed, y = preprocessor.fit_transform(df_selected)\n",
    "\n",
    "print(f\"Processed data shape: {X_processed.shape}\")\n",
    "print(f\"Target shape: {y.shape}\")\n",
    "print(f\"Target distribution: {np.bincount(y)}\")"
   ]
  },
  {
   "cell_type": "code",
   "execution_count": 7,
   "metadata": {},
   "outputs": [
    {
     "name": "stdout",
     "output_type": "stream",
     "text": [
      "Total features after preprocessing: 35\n",
      "\n",
      "Feature names: ['loan_amnt', 'int_rate', 'installment', 'annual_inc', 'dti', 'fico_range_low', 'fico_range_high', 'inq_last_6mths', 'open_acc', 'pub_rec']...\n",
      "\n",
      "Processed data summary:\n",
      "          loan_amnt      int_rate   installment    annual_inc           dti  \\\n",
      "count  8.839900e+04  8.839900e+04  8.839900e+04  8.839900e+04  8.839900e+04   \n",
      "mean   5.626533e-17 -2.636433e-17 -4.147559e-17  6.092732e-17  1.982951e-16   \n",
      "std    1.000006e+00  1.000006e+00  1.000006e+00  1.000006e+00  1.000006e+00   \n",
      "min   -1.558948e+00 -1.607806e+00 -1.638478e+00 -8.680773e-01 -1.958969e+00   \n",
      "25%   -7.446466e-01 -8.406548e-01 -7.280356e-01 -3.540640e-01 -6.875576e-01   \n",
      "50%   -2.793318e-01 -1.049645e-01 -2.371663e-01 -1.417541e-01 -5.958544e-02   \n",
      "75%    6.512980e-01  5.726449e-01  5.608662e-01  1.666985e-01  6.426297e-01   \n",
      "max    2.396229e+00  4.120414e+00  3.648162e+00  9.969975e+01  1.010532e+02   \n",
      "\n",
      "       fico_range_low  fico_range_high  inq_last_6mths      open_acc  \\\n",
      "count    8.839900e+04     8.839900e+04    8.839900e+04  8.839900e+04   \n",
      "mean    -4.938489e-16     1.381877e-15    3.440223e-17  1.247483e-16   \n",
      "std      1.000006e+00     1.000006e+00    1.000006e+00  1.000006e+00   \n",
      "min     -1.109000e+00    -1.108979e+00   -6.758024e-01 -1.918014e+00   \n",
      "25%     -7.872613e-01    -7.872479e-01   -6.758024e-01 -6.822334e-01   \n",
      "50%     -3.046539e-01    -3.046516e-01   -6.758024e-01 -1.526131e-01   \n",
      "75%      4.996917e-01     4.996755e-01    4.525432e-01  5.535473e-01   \n",
      "max      4.843158e+00     4.875215e+00    4.965926e+00  9.733633e+00   \n",
      "\n",
      "            pub_rec  ...  purpose_home_improvement  purpose_house  \\\n",
      "count  8.839900e+04  ...              88399.000000   88399.000000   \n",
      "mean   5.208562e-17  ...                  0.063553       0.003201   \n",
      "std    1.000006e+00  ...                  0.243956       0.056491   \n",
      "min   -3.404446e-01  ...                  0.000000       0.000000   \n",
      "25%   -3.404446e-01  ...                  0.000000       0.000000   \n",
      "50%   -3.404446e-01  ...                  0.000000       0.000000   \n",
      "75%   -3.404446e-01  ...                  0.000000       0.000000   \n",
      "max    1.190345e+02  ...                  1.000000       1.000000   \n",
      "\n",
      "       purpose_major_purchase  purpose_medical  purpose_moving  purpose_other  \\\n",
      "count            88399.000000     88399.000000    88399.000000   88399.000000   \n",
      "mean                 0.020102         0.011787        0.006052       0.055668   \n",
      "std                  0.140350         0.107929        0.077560       0.229281   \n",
      "min                  0.000000         0.000000        0.000000       0.000000   \n",
      "25%                  0.000000         0.000000        0.000000       0.000000   \n",
      "50%                  0.000000         0.000000        0.000000       0.000000   \n",
      "75%                  0.000000         0.000000        0.000000       0.000000   \n",
      "max                  1.000000         1.000000        1.000000       1.000000   \n",
      "\n",
      "       purpose_renewable_energy  purpose_small_business  purpose_vacation  \\\n",
      "count              88399.000000            88399.000000      88399.000000   \n",
      "mean                   0.000611                0.008937          0.005532   \n",
      "std                    0.024708                0.094112          0.074170   \n",
      "min                    0.000000                0.000000          0.000000   \n",
      "25%                    0.000000                0.000000          0.000000   \n",
      "50%                    0.000000                0.000000          0.000000   \n",
      "75%                    0.000000                0.000000          0.000000   \n",
      "max                    1.000000                1.000000          1.000000   \n",
      "\n",
      "             target  \n",
      "count  88399.000000  \n",
      "mean       0.204878  \n",
      "std        0.403615  \n",
      "min        0.000000  \n",
      "25%        0.000000  \n",
      "50%        0.000000  \n",
      "75%        0.000000  \n",
      "max        1.000000  \n",
      "\n",
      "[8 rows x 36 columns]\n"
     ]
    }
   ],
   "source": [
    "# Get feature names after preprocessing\n",
    "feature_names = preprocessor.feature_names\n",
    "print(f\"Total features after preprocessing: {len(feature_names)}\")\n",
    "print(f\"\\nFeature names: {feature_names[:10]}...\")  # Show first 10\n",
    "\n",
    "# Create DataFrame with processed features for analysis\n",
    "X_processed_df = pd.DataFrame(X_processed, columns=feature_names)\n",
    "X_processed_df['target'] = y\n",
    "\n",
    "print(\"\\nProcessed data summary:\")\n",
    "print(X_processed_df.describe())"
   ]
  },
  {
   "cell_type": "markdown",
   "metadata": {},
   "source": [
    "## 5. Data Splitting"
   ]
  },
  {
   "cell_type": "code",
   "execution_count": 8,
   "metadata": {},
   "outputs": [
    {
     "name": "stderr",
     "output_type": "stream",
     "text": [
      "2025-09-11 15:51:52,128 - src.data.preprocessor - INFO - Data split - Train: 53039, Val: 17680, Test: 17680\n"
     ]
    },
    {
     "name": "stdout",
     "output_type": "stream",
     "text": [
      "Data splitting results:\n",
      "Training set: 53039 samples (60.0%)\n",
      "Validation set: 17680 samples (20.0%)\n",
      "Test set: 17680 samples (20.0%)\n",
      "\n",
      "Target distribution in each set:\n",
      "Train - Class 0: 42172 (79.5%), Class 1: 10867 (20.5%)\n",
      "Val - Class 0: 14058 (79.5%), Class 1: 3622 (20.5%)\n",
      "Test - Class 0: 14058 (79.5%), Class 1: 3622 (20.5%)\n"
     ]
    }
   ],
   "source": [
    "# Split data into train, validation, and test sets\n",
    "X_train, X_val, X_test, y_train, y_val, y_test = preprocessor.split_data(X_processed, y)\n",
    "\n",
    "print(\"Data splitting results:\")\n",
    "print(f\"Training set: {X_train.shape[0]} samples ({X_train.shape[0]/len(X_processed)*100:.1f}%)\")\n",
    "print(f\"Validation set: {X_val.shape[0]} samples ({X_val.shape[0]/len(X_processed)*100:.1f}%)\")\n",
    "print(f\"Test set: {X_test.shape[0]} samples ({X_test.shape[0]/len(X_processed)*100:.1f}%)\")\n",
    "\n",
    "print(\"\\nTarget distribution in each set:\")\n",
    "print(f\"Train - Class 0: {np.sum(y_train == 0)} ({np.mean(y_train == 0)*100:.1f}%), Class 1: {np.sum(y_train == 1)} ({np.mean(y_train == 1)*100:.1f}%)\")\n",
    "print(f\"Val - Class 0: {np.sum(y_val == 0)} ({np.mean(y_val == 0)*100:.1f}%), Class 1: {np.sum(y_val == 1)} ({np.mean(y_val == 1)*100:.1f}%)\")\n",
    "print(f\"Test - Class 0: {np.sum(y_test == 0)} ({np.mean(y_test == 0)*100:.1f}%), Class 1: {np.sum(y_test == 1)} ({np.mean(y_test == 1)*100:.1f}%)\")"
   ]
  },
  {
   "cell_type": "code",
   "execution_count": 9,
   "metadata": {},
   "outputs": [
    {
     "data": {
      "image/png": "[encoded data removed]",
      "text/plain": [
       "<Figure size 1500x1000 with 4 Axes>"
      ]
     },
     "metadata": {},
     "output_type": "display_data"
    }
   ],
   "source": [
    "# Visualize data distribution after preprocessing\n",
    "fig, axes = plt.subplots(2, 2, figsize=(15, 10))\n",
    "\n",
    "# Plot distribution of first few processed features\n",
    "for i in range(min(4, X_processed.shape[1])):\n",
    "    row = i // 2\n",
    "    col = i % 2\n",
    "    \n",
    "    axes[row, col].hist(X_processed[:, i], bins=50, alpha=0.7, color='skyblue')\n",
    "    axes[row, col].set_title(f'Distribution of {feature_names[i]}')\n",
    "    axes[row, col].set_xlabel('Scaled Value')\n",
    "    axes[row, col].set_ylabel('Frequency')\n",
    "    axes[row, col].grid(True, alpha=0.3)\n",
    "\n",
    "plt.tight_layout()\n",
    "plt.show()"
   ]
  },
  {
   "cell_type": "markdown",
   "metadata": {},
   "source": [
    "## 6. Save Preprocessed Data and Pipeline"
   ]
  },
  {
   "cell_type": "code",
   "execution_count": 10,
   "metadata": {},
   "outputs": [
    {
     "name": "stdout",
     "output_type": "stream",
     "text": [
      "Saving preprocessed data...\n",
      "Results saved to: ../data/processed/preprocessed_data.pkl\n",
      "Preprocessor saved to '../data/processed/preprocessor.pkl'\n",
      "Original data for RL saved to '../data/processed/data_for_rl.csv'\n"
     ]
    }
   ],
   "source": [
    "# Create data dictionary for easy access\n",
    "processed_data = {\n",
    "    'X_train': X_train,\n",
    "    'X_val': X_val,\n",
    "    'X_test': X_test,\n",
    "    'y_train': y_train,\n",
    "    'y_val': y_val,\n",
    "    'y_test': y_test,\n",
    "    'feature_names': feature_names,\n",
    "    'selected_numerical': selected_numerical,\n",
    "    'selected_categorical': selected_categorical\n",
    "}\n",
    "\n",
    "# Save processed data\n",
    "print(\"Saving preprocessed data...\")\n",
    "save_results(processed_data, 'preprocessed_data.pkl', '../data/processed/')\n",
    "\n",
    "# Save the fitted preprocessor\n",
    "joblib.dump(preprocessor, '../data/processed/preprocessor.pkl')\n",
    "print(\"Preprocessor saved to '../data/processed/preprocessor.pkl'\")\n",
    "\n",
    "# Save original data with selected features for RL\n",
    "df_for_rl = df_selected.copy()\n",
    "df_for_rl.to_csv('../data/processed/data_for_rl.csv', index=False)\n",
    "print(\"Original data for RL saved to '../data/processed/data_for_rl.csv'\")"
   ]
  },
  {
   "cell_type": "code",
   "execution_count": 11,
   "metadata": {},
   "outputs": [
    {
     "name": "stdout",
     "output_type": "stream",
     "text": [
      "Results saved to: ../results/preprocessing_summary.json\n",
      "\n",
      "PREPROCESSING SUMMARY\n",
      "========================================\n",
      "Original dataset: (88399, 154)\n",
      "After feature selection: (88399, 18)\n",
      "After preprocessing: (88399, 35)\n",
      "\n",
      "Feature expansion:\n",
      "Numerical features: 13\n",
      "Categorical features: 4\n",
      "Total processed features: 35\n",
      "\n",
      "Data splits:\n",
      "Train: 53039\n",
      "Validation: 17680\n",
      "Test: 17680\n",
      "\n",
      "Class balance:\n",
      "Default rate: 20.49%\n",
      "\n",
      "Data preprocessing completed successfully!\n",
      "Ready for model training.\n"
     ]
    }
   ],
   "source": [
    "# Create preprocessing summary\n",
    "preprocessing_summary = {\n",
    "    'original_shape': df.shape,\n",
    "    'selected_features_shape': df_selected.shape,\n",
    "    'processed_shape': X_processed.shape,\n",
    "    'n_numerical_features': len(selected_numerical),\n",
    "    'n_categorical_features': len(selected_categorical),\n",
    "    'n_processed_features': len(feature_names),\n",
    "    'train_size': len(X_train),\n",
    "    'val_size': len(X_val),\n",
    "    'test_size': len(X_test),\n",
    "    'class_distribution': {\n",
    "        'class_0': int(np.sum(y == 0)),\n",
    "        'class_1': int(np.sum(y == 1)),\n",
    "        'default_rate': float(np.mean(y))\n",
    "    },\n",
    "    'selected_features': {\n",
    "        'numerical': selected_numerical,\n",
    "        'categorical': selected_categorical\n",
    "    }\n",
    "}\n",
    "\n",
    "save_results(preprocessing_summary, 'preprocessing_summary.json', '../results/')\n",
    "\n",
    "print(\"\\nPREPROCESSING SUMMARY\")\n",
    "print(\"=\" * 40)\n",
    "print(f\"Original dataset: {preprocessing_summary['original_shape']}\")\n",
    "print(f\"After feature selection: {preprocessing_summary['selected_features_shape']}\")\n",
    "print(f\"After preprocessing: {preprocessing_summary['processed_shape']}\")\n",
    "print(f\"\\nFeature expansion:\")\n",
    "print(f\"Numerical features: {preprocessing_summary['n_numerical_features']}\")\n",
    "print(f\"Categorical features: {preprocessing_summary['n_categorical_features']}\")\n",
    "print(f\"Total processed features: {preprocessing_summary['n_processed_features']}\")\n",
    "print(f\"\\nData splits:\")\n",
    "print(f\"Train: {preprocessing_summary['train_size']}\")\n",
    "print(f\"Validation: {preprocessing_summary['val_size']}\")\n",
    "print(f\"Test: {preprocessing_summary['test_size']}\")\n",
    "print(f\"\\nClass balance:\")\n",
    "print(f\"Default rate: {preprocessing_summary['class_distribution']['default_rate']:.2%}\")\n",
    "\n",
    "print(\"\\nData preprocessing completed successfully!\")\n",
    "print(\"Ready for model training.\")"
   ]
  }
 ],
 "metadata": {
  "kernelspec": {
   "display_name": "Python 3",
   "language": "python",
   "name": "python3"
  },
  "language_info": {
   "codemirror_mode": {
    "name": "ipython",
    "version": 3
   },
   "file_extension": ".py",
   "mimetype": "text/x-python",
   "name": "python",
   "nbconvert_exporter": "python",
   "pygments_lexer": "ipython3",
   "version": "3.9.0"
  }
 },
 "nbformat": 4,
 "nbformat_minor": 4
}
